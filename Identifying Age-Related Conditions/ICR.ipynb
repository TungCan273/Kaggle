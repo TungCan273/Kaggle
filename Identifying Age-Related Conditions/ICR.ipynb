{
 "cells": [
  {
   "attachments": {},
   "cell_type": "markdown",
   "metadata": {},
   "source": [
    "# Dataset Description\n",
    "The competition data comprises over fifty anonymized health characteristics linked to three age-related conditions. Your goal is to predict whether a subject has or has not been diagnosed with one of these conditions -- a binary classification problem.\n",
    "\n",
    "Note that this is a [Code Competition](https://www.kaggle.com/competitions/icr-identify-age-related-conditions/overview/code-requirements), in which the actual test set is hidden. In this version, we give some sample data in the correct format to help you author your solutions. When your submission is scored, this example test data will be replaced with the full test set. There are about 400 rows in the full test set."
   ]
  },
  {
   "attachments": {},
   "cell_type": "markdown",
   "metadata": {},
   "source": [
    "# Files and Field Descriptions\n",
    "- `train.csv` - The training set.\n",
    "  - **Id** Unique identifier for each observation.\n",
    "  - **AB-GL** Fifty-six anonymized health characteristics. All are numeric except for EJ, which is categorical.\n",
    "  - **Class** A binary target: _1_ indicates the subject has been diagnosed with one of the three conditions, _0_ indicates they have not.\n",
    "- `test.csv `- The test set. Your goal is to predict the probability that a subject in this set belongs to each of the two classes.\n",
    "- `greeks.csv` - Supplemental metadata, only available for the training set.\n",
    "  - Alpha Identifies the type of age-related condition, if present.\n",
    "    - A No age-related condition. Corresponds to class 0.\n",
    "    - B, D, G The three age-related conditions. Correspond to class 1.\n",
    "  - **Beta, Gamma, Delta** Three experimental characteristics.\n",
    "  - **Epsilon** The date the data for this subject was collected. Note that all of the data in the test set was collected after the training set was collected.\n",
    "- `sample_submission.csv` - A sample submission file in the correct format. See the [Evaluation](https://www.kaggle.com/competitions/icr-identify-age-related-conditions/overview/code-requirements) page for more details."
   ]
  },
  {
   "attachments": {},
   "cell_type": "markdown",
   "metadata": {},
   "source": [
    "# Evaluation\n",
    "Submissions are evaluated using a **balanced logarithmic loss**. The overall effect is such that each class is roughly equally important for the final score.\n",
    "Each observation is either of class _0_ or of class _1_. For each observation, you must submit a probability for each class. The formula is then  \n",
    "![Image](Image.png)  \n",
    "Where $(N_{c})$ is the number of observations of class $(c)$, $(\\log)$ is the natural logarithm, $(y_{c i})$ is _1_ if observation $(i)$ belongs to class $(c)$ and _0_ otherwise, $(p_{c i})$ is the predicted probability that observation $(i)$ belongs to class $(c)$.\n",
    "\n",
    "The submitted probabilities for a given row are not required to sum to one because they are rescaled prior to being scored (each row is divided by the row sum). In order to avoid the extremes of the log function, each predicted probability is replaced with\n",
    "$$ \\max(\\min(p, 1 - 10^{-15}), 10^{-15}) $$"
   ]
  },
  {
   "cell_type": "code",
   "execution_count": 1,
   "metadata": {},
   "outputs": [],
   "source": [
    "import pandas as pd"
   ]
  }
 ],
 "metadata": {
  "kernelspec": {
   "display_name": "Python 3",
   "language": "python",
   "name": "python3"
  },
  "language_info": {
   "codemirror_mode": {
    "name": "ipython",
    "version": 3
   },
   "file_extension": ".py",
   "mimetype": "text/x-python",
   "name": "python",
   "nbconvert_exporter": "python",
   "pygments_lexer": "ipython3",
   "version": "3.10.2"
  },
  "orig_nbformat": 4
 },
 "nbformat": 4,
 "nbformat_minor": 2
}
